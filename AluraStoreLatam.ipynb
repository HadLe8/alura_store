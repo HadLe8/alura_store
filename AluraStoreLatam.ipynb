{
  "nbformat": 4,
  "nbformat_minor": 0,
  "metadata": {
    "colab": {
      "provenance": [],
      "include_colab_link": true
    },
    "kernelspec": {
      "name": "python3",
      "display_name": "Python 3"
    },
    "language_info": {
      "name": "python"
    }
  },
  "cells": [
    {
      "cell_type": "markdown",
      "metadata": {
        "id": "view-in-github",
        "colab_type": "text"
      },
      "source": [
        "<a href=\"https://colab.research.google.com/github/HadLe8/alura_store/blob/main/AluraStoreLatam.ipynb\" target=\"_parent\"><img src=\"https://colab.research.google.com/assets/colab-badge.svg\" alt=\"Open In Colab\"/></a>"
      ]
    },
    {
      "cell_type": "markdown",
      "source": [
        "# Importación de datos\n",
        "\n"
      ],
      "metadata": {
        "id": "RhEdWd9YUR6H"
      }
    },
    {
      "cell_type": "code",
      "execution_count": 12,
      "metadata": {
        "id": "T3EvaeQ_INIL"
      },
      "outputs": [],
      "source": [
        "import pandas as pd\n",
        "\n",
        "url = \"https://raw.githubusercontent.com/alura-es-cursos/challenge1-data-science-latam/refs/heads/main/base-de-datos-challenge1-latam/tienda_1%20.csv\"\n",
        "url2 = \"https://raw.githubusercontent.com/alura-es-cursos/challenge1-data-science-latam/refs/heads/main/base-de-datos-challenge1-latam/tienda_2.csv\"\n",
        "url3 = \"https://raw.githubusercontent.com/alura-es-cursos/challenge1-data-science-latam/refs/heads/main/base-de-datos-challenge1-latam/tienda_3.csv\"\n",
        "url4 = \"https://raw.githubusercontent.com/alura-es-cursos/challenge1-data-science-latam/refs/heads/main/base-de-datos-challenge1-latam/tienda_4.csv\"\n",
        "\n",
        "tienda = pd.read_csv(url)\n",
        "tienda2 = pd.read_csv(url2)\n",
        "tienda3 = pd.read_csv(url3)\n",
        "tienda4 = pd.read_csv(url4)\n",
        "\n",
        "tiendas=[tienda, tienda2, tienda3, tienda4]"
      ]
    },
    {
      "cell_type": "markdown",
      "source": [
        "#1. Análisis de facturación\n",
        "\n"
      ],
      "metadata": {
        "id": "X62IW3KFUIYm"
      }
    },
    {
      "cell_type": "code",
      "source": [
        "conteo=0\n",
        "ingresos=[]\n",
        "for n in tiendas:\n",
        "    ingreso_total = sum(n['Precio'])\n",
        "    conteo+=1\n",
        "    ingresos.append(ingreso_total)# Guardar en array\n",
        "    print(f'Ingreso total tienda {conteo} : {ingreso_total}')"
      ],
      "metadata": {
        "colab": {
          "base_uri": "https://localhost:8080/"
        },
        "id": "cqX56aeFM5q0",
        "outputId": "c59a4e23-be67-4119-d288-ec566a7d4ac1"
      },
      "execution_count": 88,
      "outputs": [
        {
          "output_type": "stream",
          "name": "stdout",
          "text": [
            "Ingreso total tienda 1 : 1150880400.0\n",
            "Ingreso total tienda 2 : 1116343500.0\n",
            "Ingreso total tienda 3 : 1098019600.0\n",
            "Ingreso total tienda 4 : 1038375700.0\n"
          ]
        }
      ]
    },
    {
      "cell_type": "markdown",
      "source": [
        "# 2. Ventas por categoría"
      ],
      "metadata": {
        "id": "2V_vcAPzWZmR"
      }
    },
    {
      "cell_type": "code",
      "source": [
        "conteo=0\n",
        "for n in tiendas:\n",
        "  categorias=n['Categoría del Producto'].value_counts()\n",
        "  conteo+=1\n",
        "  print(f'La ventas por categorías de la tienda {conteo}: \\n \\n {categorias}\\n')\n"
      ],
      "metadata": {
        "id": "A34YupIuYhfF",
        "colab": {
          "base_uri": "https://localhost:8080/"
        },
        "outputId": "61b41058-2b73-4283-c868-a7cc392f6bac"
      },
      "execution_count": 89,
      "outputs": [
        {
          "output_type": "stream",
          "name": "stdout",
          "text": [
            "La ventas por categorías de la tienda 1: \n",
            " \n",
            " Categoría del Producto\n",
            "Muebles                    465\n",
            "Electrónicos               448\n",
            "Juguetes                   324\n",
            "Electrodomésticos          312\n",
            "Deportes y diversión       284\n",
            "Instrumentos musicales     182\n",
            "Libros                     173\n",
            "Artículos para el hogar    171\n",
            "Name: count, dtype: int64\n",
            "\n",
            "La ventas por categorías de la tienda 2: \n",
            " \n",
            " Categoría del Producto\n",
            "Muebles                    442\n",
            "Electrónicos               422\n",
            "Juguetes                   313\n",
            "Electrodomésticos          305\n",
            "Deportes y diversión       275\n",
            "Instrumentos musicales     224\n",
            "Libros                     197\n",
            "Artículos para el hogar    181\n",
            "Name: count, dtype: int64\n",
            "\n",
            "La ventas por categorías de la tienda 3: \n",
            " \n",
            " Categoría del Producto\n",
            "Muebles                    499\n",
            "Electrónicos               451\n",
            "Juguetes                   315\n",
            "Electrodomésticos          278\n",
            "Deportes y diversión       277\n",
            "Libros                     185\n",
            "Instrumentos musicales     177\n",
            "Artículos para el hogar    177\n",
            "Name: count, dtype: int64\n",
            "\n",
            "La ventas por categorías de la tienda 4: \n",
            " \n",
            " Categoría del Producto\n",
            "Muebles                    480\n",
            "Electrónicos               451\n",
            "Juguetes                   338\n",
            "Deportes y diversión       277\n",
            "Electrodomésticos          254\n",
            "Artículos para el hogar    201\n",
            "Libros                     187\n",
            "Instrumentos musicales     170\n",
            "Name: count, dtype: int64\n",
            "\n"
          ]
        }
      ]
    },
    {
      "cell_type": "code",
      "source": [
        "conteo=0\n",
        "promedios=[]\n",
        "for n in tiendas:\n",
        "  promedio_tiendas=sum(n['Calificación'])/len(n['Calificación'])\n",
        "  conteo+=1\n",
        "  promedios.append(promedio_tiendas)# Guardar en array\n",
        "  print(f'El promedio de calificaciones de la tienda {conteo} es: {promedio_tiendas}')"
      ],
      "metadata": {
        "id": "bh3jjjJwY5MU",
        "colab": {
          "base_uri": "https://localhost:8080/"
        },
        "outputId": "7b750feb-775a-43bc-ba0a-9725e3ecdf6c"
      },
      "execution_count": 86,
      "outputs": [
        {
          "output_type": "stream",
          "name": "stdout",
          "text": [
            "El promedio de calificaciones de la tienda 1 es: 3.976685036032217\n",
            "El promedio de calificaciones de la tienda 2 es: 4.037303942348453\n",
            "El promedio de calificaciones de la tienda 3 es: 4.048325561678677\n",
            "El promedio de calificaciones de la tienda 4 es: 3.9957591178965224\n"
          ]
        }
      ]
    },
    {
      "cell_type": "markdown",
      "source": [
        "# 4. Productos más y menos vendidos"
      ],
      "metadata": {
        "id": "DmNp1KPBZCm-"
      }
    },
    {
      "cell_type": "code",
      "source": [
        "  conteo = 0\n",
        "for n in tiendas:\n",
        "    productos = n['Producto'].value_counts()\n",
        "    conteo += 1\n",
        "    maximo = productos.max()\n",
        "    minimo = productos.min()\n",
        "    productos_mas_vendidos = productos[productos == maximo]\n",
        "    productos_menos_vendidos = productos[productos == minimo]\n",
        "\n",
        "    print(f'Tienda {conteo} \\n \\n Productos más vendidos: \\n {productos_mas_vendidos}\\n\\n Productos menos vendidos: \\n  {productos_menos_vendidos}\\n \\n')"
      ],
      "metadata": {
        "id": "qoyjqijQZHfF",
        "colab": {
          "base_uri": "https://localhost:8080/"
        },
        "outputId": "f72569ed-6c93-4c86-8404-4044575597c4"
      },
      "execution_count": 105,
      "outputs": [
        {
          "output_type": "stream",
          "name": "stdout",
          "text": [
            "Tienda 1 \n",
            " \n",
            " Productos más vendidos: \n",
            " Producto\n",
            "Microondas       60\n",
            "TV LED UHD 4K    60\n",
            "Armario          60\n",
            "Name: count, dtype: int64\n",
            "\n",
            " Productos menos vendidos: \n",
            "  Producto\n",
            "Auriculares con micrófono    33\n",
            "Celular ABXY                 33\n",
            "Name: count, dtype: int64\n",
            " \n",
            "\n",
            "Tienda 2 \n",
            " \n",
            " Productos más vendidos: \n",
            " Producto\n",
            "Iniciando en programación    65\n",
            "Name: count, dtype: int64\n",
            "\n",
            " Productos menos vendidos: \n",
            "  Producto\n",
            "Juego de mesa    32\n",
            "Name: count, dtype: int64\n",
            " \n",
            "\n",
            "Tienda 3 \n",
            " \n",
            " Productos más vendidos: \n",
            " Producto\n",
            "Kit de bancas    57\n",
            "Name: count, dtype: int64\n",
            "\n",
            " Productos menos vendidos: \n",
            "  Producto\n",
            "Bloques de construcción    35\n",
            "Name: count, dtype: int64\n",
            " \n",
            "\n",
            "Tienda 4 \n",
            " \n",
            " Productos más vendidos: \n",
            " Producto\n",
            "Cama box    62\n",
            "Name: count, dtype: int64\n",
            "\n",
            " Productos menos vendidos: \n",
            "  Producto\n",
            "Guitarra eléctrica    33\n",
            "Name: count, dtype: int64\n",
            " \n",
            "\n"
          ]
        }
      ]
    },
    {
      "cell_type": "markdown",
      "source": [
        "# 5. Envío promedio por tienda"
      ],
      "metadata": {
        "id": "Fl0cGi3bZKqU"
      }
    },
    {
      "cell_type": "code",
      "source": [
        "conteo=0\n",
        "costos=[]\n",
        "for n in tiendas:\n",
        "  costo_tiendas=sum(n['Costo de envío'])/len(n['Costo de envío'])\n",
        "  conteo+=1\n",
        "  costos.append(costo_tiendas)# Guardar en array\n",
        "  print(f'El costo de envio promedio para la tienda {conteo} es: {costo_tiendas}')"
      ],
      "metadata": {
        "id": "S2JeaCykZNy9",
        "colab": {
          "base_uri": "https://localhost:8080/"
        },
        "outputId": "2c2619ba-b264-427e-b581-65f80edf7b7f"
      },
      "execution_count": 83,
      "outputs": [
        {
          "output_type": "stream",
          "name": "stdout",
          "text": [
            "El costo de envio promedio para la tienda 1 es: 26018.60958033065\n",
            "El costo de envio promedio para la tienda 2 es: 25216.235693090293\n",
            "El costo de envio promedio para la tienda 3 es: 24805.680373039424\n",
            "El costo de envio promedio para la tienda 4 es: 23459.457167090754\n"
          ]
        }
      ]
    }
  ]
}