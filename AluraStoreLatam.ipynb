{
  "nbformat": 4,
  "nbformat_minor": 0,
  "metadata": {
    "colab": {
      "provenance": []
    },
    "kernelspec": {
      "name": "python3",
      "display_name": "Python 3"
    },
    "language_info": {
      "name": "python"
    }
  },
  "cells": [
    {
      "cell_type": "markdown",
      "source": [
        "### Importación de datos\n",
        "\n"
      ],
      "metadata": {
        "id": "RhEdWd9YUR6H"
      }
    },
    {
      "cell_type": "code",
      "execution_count": 12,
      "metadata": {
        "id": "T3EvaeQ_INIL"
      },
      "outputs": [],
      "source": [
        "import pandas as pd\n",
        "\n",
        "url = \"https://raw.githubusercontent.com/alura-es-cursos/challenge1-data-science-latam/refs/heads/main/base-de-datos-challenge1-latam/tienda_1%20.csv\"\n",
        "url2 = \"https://raw.githubusercontent.com/alura-es-cursos/challenge1-data-science-latam/refs/heads/main/base-de-datos-challenge1-latam/tienda_2.csv\"\n",
        "url3 = \"https://raw.githubusercontent.com/alura-es-cursos/challenge1-data-science-latam/refs/heads/main/base-de-datos-challenge1-latam/tienda_3.csv\"\n",
        "url4 = \"https://raw.githubusercontent.com/alura-es-cursos/challenge1-data-science-latam/refs/heads/main/base-de-datos-challenge1-latam/tienda_4.csv\"\n",
        "\n",
        "tienda = pd.read_csv(url)\n",
        "tienda2 = pd.read_csv(url2)\n",
        "tienda3 = pd.read_csv(url3)\n",
        "tienda4 = pd.read_csv(url4)\n",
        "\n",
        "tiendas=[tienda, tienda2, tienda3, tienda4]"
      ]
    },
    {
      "cell_type": "markdown",
      "source": [
        "#1. Análisis de facturación\n",
        "\n"
      ],
      "metadata": {
        "id": "X62IW3KFUIYm"
      }
    },
    {
      "cell_type": "code",
      "source": [
        "conteo=0\n",
        "ingresos=[]\n",
        "for n in tiendas:\n",
        "    ingreso_total = sum(n['Precio'])\n",
        "    conteo+=1\n",
        "    ingresos.append(ingreso_total)# Guardar en array\n",
        "    print(f'Ingreso total tienda {conteo} : {ingreso_total}')"
      ],
      "metadata": {
        "colab": {
          "base_uri": "https://localhost:8080/"
        },
        "id": "cqX56aeFM5q0",
        "outputId": "c59a4e23-be67-4119-d288-ec566a7d4ac1"
      },
      "execution_count": 88,
      "outputs": [
        {
          "output_type": "stream",
          "name": "stdout",
          "text": [
            "Ingreso total tienda 1 : 1150880400.0\n",
            "Ingreso total tienda 2 : 1116343500.0\n",
            "Ingreso total tienda 3 : 1098019600.0\n",
            "Ingreso total tienda 4 : 1038375700.0\n"
          ]
        }
      ]
    },
    {
      "cell_type": "markdown",
      "source": [
        "# 2. Ventas por categoría"
      ],
      "metadata": {
        "id": "2V_vcAPzWZmR"
      }
    },
    {
      "cell_type": "code",
      "source": [
        "conteo=0\n",
        "for n in tiendas:\n",
        "  categorias=n['Categoría del Producto'].value_counts()\n",
        "  conteo+=1\n",
        "  print(f'La ventas por categorías de la tienda {conteo}: \\n \\n {categorias}\\n')\n"
      ],
      "metadata": {
        "id": "A34YupIuYhfF",
        "colab": {
          "base_uri": "https://localhost:8080/"
        },
        "outputId": "61b41058-2b73-4283-c868-a7cc392f6bac"
      },
      "execution_count": 89,
      "outputs": [
        {
          "output_type": "stream",
          "name": "stdout",
          "text": [
            "La ventas por categorías de la tienda 1: \n",
            " \n",
            " Categoría del Producto\n",
            "Muebles                    465\n",
            "Electrónicos               448\n",
            "Juguetes                   324\n",
            "Electrodomésticos          312\n",
            "Deportes y diversión       284\n",
            "Instrumentos musicales     182\n",
            "Libros                     173\n",
            "Artículos para el hogar    171\n",
            "Name: count, dtype: int64\n",
            "\n",
            "La ventas por categorías de la tienda 2: \n",
            " \n",
            " Categoría del Producto\n",
            "Muebles                    442\n",
            "Electrónicos               422\n",
            "Juguetes                   313\n",
            "Electrodomésticos          305\n",
            "Deportes y diversión       275\n",
            "Instrumentos musicales     224\n",
            "Libros                     197\n",
            "Artículos para el hogar    181\n",
            "Name: count, dtype: int64\n",
            "\n",
            "La ventas por categorías de la tienda 3: \n",
            " \n",
            " Categoría del Producto\n",
            "Muebles                    499\n",
            "Electrónicos               451\n",
            "Juguetes                   315\n",
            "Electrodomésticos          278\n",
            "Deportes y diversión       277\n",
            "Libros                     185\n",
            "Instrumentos musicales     177\n",
            "Artículos para el hogar    177\n",
            "Name: count, dtype: int64\n",
            "\n",
            "La ventas por categorías de la tienda 4: \n",
            " \n",
            " Categoría del Producto\n",
            "Muebles                    480\n",
            "Electrónicos               451\n",
            "Juguetes                   338\n",
            "Deportes y diversión       277\n",
            "Electrodomésticos          254\n",
            "Artículos para el hogar    201\n",
            "Libros                     187\n",
            "Instrumentos musicales     170\n",
            "Name: count, dtype: int64\n",
            "\n"
          ]
        }
      ]
    },
    {
      "cell_type": "code",
      "source": [
        "conteo=0\n",
        "promedios=[]\n",
        "for n in tiendas:\n",
        "  promedio_tiendas=sum(n['Calificación'])/len(n['Calificación'])\n",
        "  conteo+=1\n",
        "  promedios.append(promedio_tiendas)# Guardar en array\n",
        "  print(f'El promedio de calificaciones de la tienda {conteo} es: {promedio_tiendas}')"
      ],
      "metadata": {
        "id": "bh3jjjJwY5MU",
        "colab": {
          "base_uri": "https://localhost:8080/"
        },
        "outputId": "7b750feb-775a-43bc-ba0a-9725e3ecdf6c"
      },
      "execution_count": 86,
      "outputs": [
        {
          "output_type": "stream",
          "name": "stdout",
          "text": [
            "El promedio de calificaciones de la tienda 1 es: 3.976685036032217\n",
            "El promedio de calificaciones de la tienda 2 es: 4.037303942348453\n",
            "El promedio de calificaciones de la tienda 3 es: 4.048325561678677\n",
            "El promedio de calificaciones de la tienda 4 es: 3.9957591178965224\n"
          ]
        }
      ]
    },
    {
      "cell_type": "markdown",
      "source": [
        "# 4. Productos más y menos vendidos"
      ],
      "metadata": {
        "id": "DmNp1KPBZCm-"
      }
    },
    {
      "cell_type": "code",
      "source": [
        "conteo=0\n",
        "for n in tiendas:\n",
        "  productos=n['Producto'].value_counts()\n",
        "  conteo+=1\n",
        "  print(f'Los productos más vendidos en la tienda {conteo} son : \\n \\n {productos}\\n')"
      ],
      "metadata": {
        "id": "qoyjqijQZHfF",
        "colab": {
          "base_uri": "https://localhost:8080/"
        },
        "outputId": "3474483d-14f5-4a26-a494-1f455dd6854e"
      },
      "execution_count": 81,
      "outputs": [
        {
          "output_type": "stream",
          "name": "stdout",
          "text": [
            "Los productos más vendidos en la tienda 1 son : \n",
            " \n",
            " Producto\n",
            "Microondas                     60\n",
            "TV LED UHD 4K                  60\n",
            "Armario                        60\n",
            "Secadora de ropa               58\n",
            "Mesa de noche                  56\n",
            "Bloques de construcción        56\n",
            "Balón de baloncesto            55\n",
            "Bicicleta                      54\n",
            "Vaso térmico                   54\n",
            "Refrigerador                   54\n",
            "Impresora                      54\n",
            "Batería                        53\n",
            "Cubertería                     52\n",
            "Carrito de control remoto      52\n",
            "Modelado predictivo            51\n",
            "Auriculares                    50\n",
            "Ajedrez de madera              49\n",
            "Iphone 15                      49\n",
            "Lavavajillas                   48\n",
            "Lavadora de ropa               47\n",
            "Guitarra eléctrica             47\n",
            "Guitarra acústica              46\n",
            "Sofá reclinable                46\n",
            "Silla de oficina               46\n",
            "Estufa                         45\n",
            "Cama box                       44\n",
            "Kit de bancas                  44\n",
            "Smart TV                       44\n",
            "Cama king                      44\n",
            "Cubo mágico 8x8                44\n",
            "Mesa de centro                 44\n",
            "Set de ollas                   43\n",
            "Smartwatch                     43\n",
            "Juego de mesa                  43\n",
            "Balón de voleibol              42\n",
            "Dashboards con Power BI        42\n",
            "Tablet ABXY                    42\n",
            "Sillón                         41\n",
            "Iniciando en programación      41\n",
            "Set de vasos                   41\n",
            "Asistente virtual              40\n",
            "Muñeca bebé                    40\n",
            "Mesa de comedor                40\n",
            "Dinosaurio Rex                 40\n",
            "Cuerda para saltar             40\n",
            "Mochila                        39\n",
            "Ciencia de datos con Python    39\n",
            "Pandereta                      36\n",
            "Olla de presión                35\n",
            "Auriculares con micrófono      33\n",
            "Celular ABXY                   33\n",
            "Name: count, dtype: int64\n",
            "\n",
            "Los productos más vendidos en la tienda 2 son : \n",
            " \n",
            " Producto\n",
            "Iniciando en programación      65\n",
            "Microondas                     62\n",
            "Batería                        61\n",
            "Guitarra acústica              58\n",
            "Pandereta                      58\n",
            "Secadora de ropa               57\n",
            "Iphone 15                      55\n",
            "Bloques de construcción        54\n",
            "Armario                        54\n",
            "Set de ollas                   52\n",
            "Cuerda para saltar             50\n",
            "Lavadora de ropa               49\n",
            "Silla de oficina               49\n",
            "Refrigerador                   49\n",
            "Muñeca bebé                    48\n",
            "Carrito de control remoto      47\n",
            "Guitarra eléctrica             47\n",
            "Cama box                       47\n",
            "Vaso térmico                   47\n",
            "Modelado predictivo            46\n",
            "Balón de voleibol              46\n",
            "Set de vasos                   46\n",
            "Lavavajillas                   46\n",
            "Kit de bancas                  45\n",
            "Cama king                      45\n",
            "Bicicleta                      45\n",
            "Mochila                        45\n",
            "Cubo mágico 8x8                45\n",
            "Ajedrez de madera              45\n",
            "Mesa de centro                 45\n",
            "TV LED UHD 4K                  45\n",
            "Tablet ABXY                    44\n",
            "Smartwatch                     44\n",
            "Mesa de noche                  44\n",
            "Olla de presión                44\n",
            "Auriculares con micrófono      44\n",
            "Sofá reclinable                44\n",
            "Dashboards con Power BI        43\n",
            "Ciencia de datos con Python    43\n",
            "Balón de baloncesto            42\n",
            "Estufa                         42\n",
            "Dinosaurio Rex                 42\n",
            "Celular ABXY                   41\n",
            "Smart TV                       40\n",
            "Cubertería                     39\n",
            "Asistente virtual              38\n",
            "Auriculares                    37\n",
            "Sillón                         35\n",
            "Mesa de comedor                34\n",
            "Impresora                      34\n",
            "Juego de mesa                  32\n",
            "Name: count, dtype: int64\n",
            "\n",
            "Los productos más vendidos en la tienda 3 son : \n",
            " \n",
            " Producto\n",
            "Kit de bancas                  57\n",
            "Mesa de comedor                56\n",
            "Cama king                      56\n",
            "Set de ollas                   55\n",
            "Mesa de noche                  55\n",
            "Smart TV                       54\n",
            "Estufa                         53\n",
            "Cuerda para saltar             53\n",
            "Modelado predictivo            53\n",
            "Carrito de control remoto      52\n",
            "Lavavajillas                   52\n",
            "Bicicleta                      52\n",
            "Juego de mesa                  52\n",
            "Pandereta                      51\n",
            "Impresora                      50\n",
            "Refrigerador                   50\n",
            "Balón de baloncesto            50\n",
            "Armario                        49\n",
            "Balón de voleibol              48\n",
            "Tablet ABXY                    48\n",
            "Sillón                         47\n",
            "Guitarra acústica              47\n",
            "Olla de presión                47\n",
            "Ajedrez de madera              47\n",
            "Ciencia de datos con Python    46\n",
            "Iphone 15                      46\n",
            "Dinosaurio Rex                 46\n",
            "Silla de oficina               46\n",
            "Smartwatch                     46\n",
            "Cama box                       46\n",
            "Iniciando en programación      46\n",
            "Secadora de ropa               45\n",
            "Sofá reclinable                45\n",
            "Celular ABXY                   44\n",
            "Cubo mágico 8x8                44\n",
            "Auriculares                    43\n",
            "TV LED UHD 4K                  42\n",
            "Mesa de centro                 42\n",
            "Lavadora de ropa               42\n",
            "Batería                        41\n",
            "Dashboards con Power BI        40\n",
            "Cubertería                     39\n",
            "Muñeca bebé                    39\n",
            "Auriculares con micrófono      39\n",
            "Asistente virtual              39\n",
            "Vaso térmico                   38\n",
            "Guitarra eléctrica             38\n",
            "Set de vasos                   36\n",
            "Mochila                        36\n",
            "Microondas                     36\n",
            "Bloques de construcción        35\n",
            "Name: count, dtype: int64\n",
            "\n",
            "Los productos más vendidos en la tienda 4 son : \n",
            " \n",
            " Producto\n",
            "Cama box                       62\n",
            "Cubertería                     59\n",
            "Dashboards con Power BI        56\n",
            "Cama king                      56\n",
            "Carrito de control remoto      55\n",
            "Mesa de comedor                55\n",
            "Mesa de noche                  55\n",
            "Smart TV                       54\n",
            "Bloques de construcción        54\n",
            "Pandereta                      52\n",
            "Impresora                      50\n",
            "Modelado predictivo            50\n",
            "Asistente virtual              50\n",
            "Set de ollas                   50\n",
            "Balón de baloncesto            50\n",
            "Vaso térmico                   48\n",
            "Iphone 15                      48\n",
            "Muñeca bebé                    48\n",
            "Batería                        48\n",
            "Balón de voleibol              48\n",
            "Juego de mesa                  48\n",
            "Microondas                     48\n",
            "Estufa                         47\n",
            "Cubo mágico 8x8                47\n",
            "Sofá reclinable                47\n",
            "Dinosaurio Rex                 47\n",
            "Olla de presión                46\n",
            "Set de vasos                   46\n",
            "Tablet ABXY                    45\n",
            "Sillón                         45\n",
            "Bicicleta                      45\n",
            "Mesa de centro                 44\n",
            "Auriculares                    44\n",
            "Lavavajillas                   43\n",
            "Cuerda para saltar             43\n",
            "Iniciando en programación      43\n",
            "Mochila                        43\n",
            "Auriculares con micrófono      42\n",
            "Kit de bancas                  42\n",
            "TV LED UHD 4K                  40\n",
            "Secadora de ropa               40\n",
            "Silla de oficina               40\n",
            "Celular ABXY                   39\n",
            "Ajedrez de madera              39\n",
            "Smartwatch                     39\n",
            "Lavadora de ropa               38\n",
            "Refrigerador                   38\n",
            "Ciencia de datos con Python    38\n",
            "Guitarra acústica              37\n",
            "Armario                        34\n",
            "Guitarra eléctrica             33\n",
            "Name: count, dtype: int64\n",
            "\n"
          ]
        }
      ]
    },
    {
      "cell_type": "code",
      "source": [],
      "metadata": {
        "id": "0Sw3sd4IZIGW"
      },
      "execution_count": null,
      "outputs": []
    },
    {
      "cell_type": "markdown",
      "source": [
        "# 5. Envío promedio por tienda"
      ],
      "metadata": {
        "id": "Fl0cGi3bZKqU"
      }
    },
    {
      "cell_type": "code",
      "source": [
        "conteo=0\n",
        "costos=[]\n",
        "for n in tiendas:\n",
        "  costo_tiendas=sum(n['Costo de envío'])/len(n['Costo de envío'])\n",
        "  conteo+=1\n",
        "  costos.append(costo_tiendas)# Guardar en array\n",
        "  print(f'El costo de envio promedio para la tienda {conteo} es: {costo_tiendas}')"
      ],
      "metadata": {
        "id": "S2JeaCykZNy9",
        "colab": {
          "base_uri": "https://localhost:8080/"
        },
        "outputId": "2c2619ba-b264-427e-b581-65f80edf7b7f"
      },
      "execution_count": 83,
      "outputs": [
        {
          "output_type": "stream",
          "name": "stdout",
          "text": [
            "El costo de envio promedio para la tienda 1 es: 26018.60958033065\n",
            "El costo de envio promedio para la tienda 2 es: 25216.235693090293\n",
            "El costo de envio promedio para la tienda 3 es: 24805.680373039424\n",
            "El costo de envio promedio para la tienda 4 es: 23459.457167090754\n"
          ]
        }
      ]
    }
  ]
}